{
 "cells": [
  {
   "cell_type": "code",
   "execution_count": 400,
   "metadata": {},
   "outputs": [],
   "source": [
    "import numpy as np\n",
    "import matplotlib.pyplot as plt\n",
    "from scipy.interpolate import griddata\n",
    "from scipy.interpolate import RegularGridInterpolator\n",
    "\n",
    "from pathlib import Path\n",
    "from MITRotor import BEM, IEA10MW, IEA15MW, BEMGeometry, AerodynamicProperties, NoTipLoss, PrandtlTipLoss, ConstantInduction, KraghAerodynamics, ClassicalMomentum, UnifiedMomentum, MadsenMomentum, NoTangentialInduction, DefaultTangentialInduction, BEMSolution\n"
   ]
  },
  {
   "cell_type": "code",
   "execution_count": 401,
   "metadata": {},
   "outputs": [],
   "source": [
    "def per_error(A, E):\n",
    "    error = abs((A - E) / E) * 100\n",
    "\n",
    "    return error"
   ]
  },
  {
   "cell_type": "code",
   "execution_count": 402,
   "metadata": {},
   "outputs": [],
   "source": [
    "casenames = [r's0_v4']\n",
    "\n",
    "wrfles_data = []\n",
    "for count, name in enumerate(casenames):\n",
    "    wrfles_data.append(dict(np.load('/scratch/09909/smata/wrf_les_sweep/runs/old_clockwise/gad_sweep/'+casenames[count]+'.npz')))\n",
    "\n",
    "count = 0\n"
   ]
  },
  {
   "cell_type": "code",
   "execution_count": 403,
   "metadata": {},
   "outputs": [],
   "source": [
    "y = (wrfles_data[count]['Y3'] - wrfles_data[count]['rotor_yloc'])/(wrfles_data[count]['diameter']/2)\n",
    "z = (wrfles_data[count]['Z3'] - wrfles_data[count]['hub_height'])/(wrfles_data[count]['diameter']/2)"
   ]
  },
  {
   "cell_type": "code",
   "execution_count": 404,
   "metadata": {},
   "outputs": [],
   "source": [
    "r     = (y**2 + z**2)**(1/2)\n",
    "theta = np.arctan2(y,z)"
   ]
  },
  {
   "cell_type": "code",
   "execution_count": 405,
   "metadata": {},
   "outputs": [],
   "source": [
    "wsn4  = ((np.mean(wrfles_data[count]['ux_n4D'], axis=0)**2 + np.mean(wrfles_data[count]['vx_n4D'], axis=0)**2)**(1/2) / wrfles_data[count]['uinf'])\n",
    "wdn4  = (np.arctan2(np.mean(wrfles_data[count]['vx_n4D'], axis=0), np.mean(wrfles_data[count]['ux_n4D'], axis=0)))\n",
    "\n",
    "ws  = ((np.mean(wrfles_data[count]['ux_0D'], axis=0)**2 + np.mean(wrfles_data[count]['vx_0D'], axis=0)**2)**(1/2) / wrfles_data[count]['uinf'])\n",
    "wd  = (np.arctan2(np.mean(wrfles_data[count]['vx_0D'], axis=0), np.mean(wrfles_data[count]['ux_0D'], axis=0)))\n",
    "\n",
    "ct  = np.mean(wrfles_data[count]['ct'],  axis=0)\n",
    "cp  = np.mean(wrfles_data[count]['cp'],  axis=0)\n",
    "cl  = np.mean(wrfles_data[count]['cl'],  axis=0)\n",
    "cd  = np.mean(wrfles_data[count]['cd'],  axis=0)\n",
    "aoa = np.mean(wrfles_data[count]['aoa'], axis=0)\n",
    "f   = np.mean(wrfles_data[count]['f'],   axis=0)\n",
    "fn  = np.mean(wrfles_data[count]['fn'],  axis=0)\n",
    "ft  = np.mean(wrfles_data[count]['ft'],  axis=0)\n",
    "vd  = np.mean(wrfles_data[count]['v1'],  axis=0)"
   ]
  },
  {
   "cell_type": "code",
   "execution_count": 406,
   "metadata": {},
   "outputs": [],
   "source": [
    "Ad = np.pi * (wrfles_data[count]['diameter']/2)**2"
   ]
  },
  {
   "cell_type": "code",
   "execution_count": 407,
   "metadata": {},
   "outputs": [],
   "source": [
    "# Mask points where r > R\n",
    "mask = r <= 1.5\n",
    "r_filtered     = r[mask]\n",
    "theta_filtered = theta[mask]\n",
    "ws_filtered    = ws[mask]\n",
    "wd_filtered    = wd[mask]"
   ]
  },
  {
   "cell_type": "code",
   "execution_count": 408,
   "metadata": {},
   "outputs": [],
   "source": [
    "def interp_polars(r,t,R,T,data):\n",
    "    interpolator = RegularGridInterpolator(\n",
    "        (r, t), \n",
    "        data, \n",
    "        bounds_error=False, \n",
    "        fill_value=None  # Enables extrapolation\n",
    "    )\n",
    "\n",
    "    # Interpolation points\n",
    "    points_new = np.column_stack((R.ravel(), T.ravel()))\n",
    "\n",
    "    # Interpolate to new points\n",
    "    return interpolator(points_new).reshape(R.shape)"
   ]
  },
  {
   "cell_type": "code",
   "execution_count": 409,
   "metadata": {},
   "outputs": [],
   "source": [
    "# Interpolate to new polar grid\n",
    "r_new = np.linspace(0.0, 0.999, 60)  # 50 points in r\n",
    "theta_new = np.linspace(0, 2 * np.pi, 360)  # 100 points in theta\n",
    "Theta_new, R_new = np.meshgrid(theta_new, r_new)"
   ]
  },
  {
   "cell_type": "code",
   "execution_count": 410,
   "metadata": {},
   "outputs": [],
   "source": [
    "# Convert new polar grid to Cartesian for interpolation\n",
    "X_new = R_new * np.sin(Theta_new)\n",
    "Y_new = R_new * np.cos(Theta_new)"
   ]
  },
  {
   "cell_type": "code",
   "execution_count": 411,
   "metadata": {},
   "outputs": [],
   "source": [
    "# Interpolate data to the new polar grid\n",
    "ws_rt = griddata(\n",
    "    points=(y[mask], z[mask]),\n",
    "    values=ws_filtered,\n",
    "    xi=(X_new, Y_new),\n",
    "    method='linear'\n",
    ")\n",
    "# Interpolate data to the new polar grid\n",
    "wd_rt = griddata(\n",
    "    points=(y[mask], z[mask]),\n",
    "    values=wd_filtered,\n",
    "    xi=(X_new, Y_new),\n",
    "    method='linear'\n",
    ")"
   ]
  },
  {
   "cell_type": "code",
   "execution_count": 412,
   "metadata": {},
   "outputs": [],
   "source": [
    "cl_r = wrfles_data[count]['rOverR']\n",
    "# cl_t = np.linspace(0, 2 * np.pi, 158) + np.pi/2\n",
    "cl_t = np.linspace(0, 2 * np.pi, 158)\n",
    "\n",
    "cl_T, cl_R = np.meshgrid(cl_t, cl_r)\n",
    "\n",
    "cl_x = cl_R * np.sin(cl_T)\n",
    "cl_y = cl_R * np.cos(cl_T)\n",
    "\n",
    "cl_r_new = np.linspace(0.0, 0.98, 60)\n",
    "# cl_t_new = np.linspace(0, 2 * np.pi, 360) + np.pi/2\n",
    "cl_t_new = np.linspace(0, 2 * np.pi, 360)\n",
    "\n",
    "cl_T_new, cl_R_new = np.meshgrid(cl_t_new, cl_r_new)\n",
    "\n",
    "cl_x_new = cl_R_new * np.cos(cl_T_new)\n",
    "cl_y_new = cl_R_new * np.sin(cl_T_new)"
   ]
  },
  {
   "cell_type": "code",
   "execution_count": 413,
   "metadata": {},
   "outputs": [],
   "source": [
    "# Mask points where r > R\n",
    "mask = r <= 1.5\n",
    "r_filtered     = r[mask]\n",
    "theta_filtered = theta[mask]\n",
    "ws_filtered    = ws[mask]\n",
    "wd_filtered    = wd[mask]"
   ]
  },
  {
   "cell_type": "code",
   "execution_count": 414,
   "metadata": {},
   "outputs": [],
   "source": [
    "def interp_polars(r,t,R,T,data):\n",
    "    interpolator = RegularGridInterpolator(\n",
    "        (r, t), \n",
    "        data, \n",
    "        bounds_error=False, \n",
    "        fill_value=None  # Enables extrapolation\n",
    "    )\n",
    "\n",
    "    # Interpolation points\n",
    "    points_new = np.column_stack((R.ravel(), T.ravel()))\n",
    "\n",
    "    # Interpolate to new points\n",
    "    return interpolator(points_new).reshape(R.shape)"
   ]
  },
  {
   "cell_type": "code",
   "execution_count": 415,
   "metadata": {},
   "outputs": [],
   "source": [
    "# Interpolate to new polar grid\n",
    "r_new = np.linspace(0.0, 0.99999, 60)  # 50 points in r\n",
    "theta_new = np.linspace(0, 2 * np.pi, 360)  # 100 points in theta\n",
    "Theta_new, R_new = np.meshgrid(theta_new, r_new)"
   ]
  },
  {
   "cell_type": "code",
   "execution_count": 416,
   "metadata": {},
   "outputs": [],
   "source": [
    "# Convert new polar grid to Cartesian for interpolation\n",
    "X_new = R_new * np.sin(Theta_new)\n",
    "Y_new = R_new * np.cos(Theta_new)"
   ]
  },
  {
   "cell_type": "code",
   "execution_count": 417,
   "metadata": {},
   "outputs": [],
   "source": [
    "# Interpolate data to the new polar grid\n",
    "ws_rt = griddata(\n",
    "    points=(y[mask], z[mask]),\n",
    "    values=ws_filtered,\n",
    "    xi=(X_new, Y_new),\n",
    "    method='linear'\n",
    ")\n",
    "# Interpolate data to the new polar grid\n",
    "wd_rt = griddata(\n",
    "    points=(y[mask], z[mask]),\n",
    "    values=wd_filtered,\n",
    "    xi=(X_new, Y_new),\n",
    "    method='linear'\n",
    ")"
   ]
  },
  {
   "cell_type": "code",
   "execution_count": 418,
   "metadata": {},
   "outputs": [],
   "source": [
    "# Initialize rotor with increased radial resolution.\n",
    "rotor = IEA10MW()\n",
    "\n",
    "bem = BEM(rotor=rotor, geometry=BEMGeometry(Nr=60, Ntheta=360), aerodynamic_model=KraghAerodynamics(), tiploss_model=NoTipLoss(), momentum_model=ConstantInduction(), tangential_induction_model=NoTangentialInduction())"
   ]
  },
  {
   "cell_type": "code",
   "execution_count": 419,
   "metadata": {},
   "outputs": [],
   "source": [
    "pitch, tsr, yaw = np.deg2rad(0), 10.634, np.deg2rad(0.0)\n",
    "sol = bem(pitch, tsr, yaw, U=ws_rt, wdir=wd_rt)"
   ]
  },
  {
   "cell_type": "code",
   "execution_count": 420,
   "metadata": {},
   "outputs": [],
   "source": [
    "# aoa_rt  = interp_polars(cl_r,cl_t,cl_R_new,cl_T_new,vd)\n",
    "# aoa_rt  = interp_polars(cl_r,cl_t,cl_R_new,cl_T_new,ws_rt * np.cos(wd_rt))\n",
    "aoa_rt  = ws_rt * wrfles_data[count]['uinf'] * np.cos(wd_rt)\n"
   ]
  },
  {
   "cell_type": "code",
   "execution_count": 421,
   "metadata": {},
   "outputs": [],
   "source": [
    "wrf_ind = 1/Ad * np.trapezoid(np.trapezoid((1- aoa_rt.T/wrfles_data[count]['uinf']) * cl_R_new[:,0] * (wrfles_data[count]['diameter']/2), cl_R_new[:,0] * (wrfles_data[count]['diameter']/2)), cl_T_new[0,:])"
   ]
  },
  {
   "cell_type": "code",
   "execution_count": 422,
   "metadata": {},
   "outputs": [],
   "source": [
    "mit_ind = 1/Ad * np.trapezoid(np.trapezoid((1- (sol.U('sector') * np.cos(sol.wdir('sector'))).T) * sol.geom.mu * (wrfles_data[count]['diameter']/2), sol.geom.mu * (wrfles_data[count]['diameter']/2)), sol.geom.theta)"
   ]
  },
  {
   "cell_type": "code",
   "execution_count": 423,
   "metadata": {},
   "outputs": [
    {
     "data": {
      "text/plain": [
       "np.float64(11.559681308232147)"
      ]
     },
     "execution_count": 423,
     "metadata": {},
     "output_type": "execute_result"
    }
   ],
   "source": [
    "#MIT\n",
    "mit_ref = 0.3755722857166954\n",
    "per_error(mit_ref, mit_ind)"
   ]
  },
  {
   "cell_type": "code",
   "execution_count": 424,
   "metadata": {},
   "outputs": [
    {
     "data": {
      "text/plain": [
       "np.float64(11.559681308232134)"
      ]
     },
     "execution_count": 424,
     "metadata": {},
     "output_type": "execute_result"
    }
   ],
   "source": [
    "#WRF\n",
    "wrf_ref = 0.3607068373029895\n",
    "per_error(wrf_ref, wrf_ind)"
   ]
  },
  {
   "cell_type": "code",
   "execution_count": 425,
   "metadata": {},
   "outputs": [],
   "source": [
    "wrf_thr = wrfles_data[count]['thrust'].mean()\n",
    "mit_thr = 1/Ad * np.trapezoid(np.trapezoid(((sol.Ct('sector')).T) * sol.geom.mu * (wrfles_data[count]['diameter']/2), sol.geom.mu * (wrfles_data[count]['diameter']/2)), sol.geom.theta)"
   ]
  },
  {
   "cell_type": "code",
   "execution_count": 426,
   "metadata": {},
   "outputs": [
    {
     "data": {
      "text/plain": [
       "np.float64(3.0991338205585954)"
      ]
     },
     "execution_count": 426,
     "metadata": {},
     "output_type": "execute_result"
    }
   ],
   "source": [
    "#MIT\n",
    "mit_ref = 0.914400610308625\n",
    "per_error(mit_ref, mit_thr)"
   ]
  },
  {
   "cell_type": "code",
   "execution_count": 427,
   "metadata": {},
   "outputs": [
    {
     "data": {
      "text/plain": [
       "np.float32(3.4157043)"
      ]
     },
     "execution_count": 427,
     "metadata": {},
     "output_type": "execute_result"
    }
   ],
   "source": [
    "#WRF\n",
    "wrf_ref = 810548.4\n",
    "per_error(wrf_ref, wrf_thr)"
   ]
  },
  {
   "cell_type": "code",
   "execution_count": 428,
   "metadata": {},
   "outputs": [],
   "source": [
    "wrf_pow = wrfles_data[count]['power_aero'].mean()\n",
    "mit_pow = 1/Ad * np.trapezoid(np.trapezoid(((sol.Cp('sector')).T) * sol.geom.mu * (wrfles_data[count]['diameter']/2), sol.geom.mu * (wrfles_data[count]['diameter']/2)), sol.geom.theta)"
   ]
  },
  {
   "cell_type": "code",
   "execution_count": 429,
   "metadata": {},
   "outputs": [
    {
     "data": {
      "text/plain": [
       "np.float64(15.919092318589428)"
      ]
     },
     "execution_count": 429,
     "metadata": {},
     "output_type": "execute_result"
    }
   ],
   "source": [
    "#MIT\n",
    "mit_ref = 0.4901736756170172\n",
    "per_error(mit_ref, mit_pow)"
   ]
  },
  {
   "cell_type": "code",
   "execution_count": 430,
   "metadata": {},
   "outputs": [
    {
     "data": {
      "text/plain": [
       "np.float32(16.144428)"
      ]
     },
     "execution_count": 430,
     "metadata": {},
     "output_type": "execute_result"
    }
   ],
   "source": [
    "#WRF\n",
    "wrf_ref = 3137528.8\n",
    "per_error(wrf_ref, wrf_pow)"
   ]
  }
 ],
 "metadata": {
  "kernelspec": {
   "display_name": "mitrotor",
   "language": "python",
   "name": "python3"
  },
  "language_info": {
   "codemirror_mode": {
    "name": "ipython",
    "version": 3
   },
   "file_extension": ".py",
   "mimetype": "text/x-python",
   "name": "python",
   "nbconvert_exporter": "python",
   "pygments_lexer": "ipython3",
   "version": "3.10.16"
  }
 },
 "nbformat": 4,
 "nbformat_minor": 2
}
